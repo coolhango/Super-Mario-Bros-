{
 "cells": [
  {
   "cell_type": "code",
   "execution_count": null,
   "id": "10544cf3-9d5a-415e-b6d0-9839311517d4",
   "metadata": {},
   "outputs": [
    {
     "name": "stdout",
     "output_type": "stream",
     "text": [
      "pygame 2.5.2 (SDL 2.28.3, Python 3.12.2)\n",
      "Hello from the pygame community. https://www.pygame.org/contribute.html\n"
     ]
    },
    {
     "name": "stderr",
     "output_type": "stream",
     "text": [
      "libpng warning: iCCP: known incorrect sRGB profile\n",
      "libpng warning: iCCP: known incorrect sRGB profile\n",
      "libpng warning: iCCP: known incorrect sRGB profile\n",
      "libpng warning: iCCP: known incorrect sRGB profile\n",
      "libpng warning: iCCP: known incorrect sRGB profile\n",
      "libpng warning: iCCP: known incorrect sRGB profile\n",
      "libpng warning: iCCP: known incorrect sRGB profile\n",
      "libpng warning: iCCP: known incorrect sRGB profile\n"
     ]
    }
   ],
   "source": [
    "# Last Updated: 16 April 2024, 8.21PM.\n",
    "# Copyright © 2024 Gedeon Koh All rights reserved.\n",
    "# No part of this publication may be reproduced, distributed, or transmitted in any form or by any means, including photocopying, recording, or other electronic or mechanical methods, without the prior written permission of the publisher, except in the case of brief quotations embodied in reviews and certain other non-commercial uses permitted by copyright law.\n",
    "# THE SOFTWARE IS PROVIDED “AS IS”, WITHOUT WARRANTY OF ANY KIND, EXPRESS OR IMPLIED, INCLUDING BUT NOT LIMITED TO THE WARRANTIES OF MERCHANTABILITY, FITNESS FOR A PARTICULAR PURPOSE AND NONINFRINGEMENT. IN NO EVENT SHALL THE AUTHOR OR COPYRIGHT HOLDER BE LIABLE FOR ANY CLAIM, DAMAGES OR OTHER LIABILITY, WHETHER IN AN ACTION OF CONTRACT, TORT OR OTHERWISE, ARISING FROM, OUT OF OR IN CONNECTION WITH THE SOFTWARE OR THE USE OR OTHER DEALINGS IN THE SOFTWARE.\n",
    "# Use of this program for pranks or any malicious activities is strictly prohibited. Any unauthorized use or dissemination of the results produced by this program is unethical and may result in legal consequences.\n",
    "# This code have been tested throughly. Please inform the operator or author if there is any mistake or error in the code.\n",
    "# Any damage, disciplinary actions or death from this material is not the publisher's or owner's fault.\n",
    "# Run and use this program this AT YOUR OWN RISK.\n",
    "# Version 0.1\n",
    "\n",
    "import pygame\n",
    "from classes.Dashboard import Dashboard\n",
    "from classes.Level import Level\n",
    "from classes.Menu import Menu\n",
    "from classes.Sound import Sound\n",
    "from entities.Mario import Mario\n",
    "\n",
    "\n",
    "windowSize = 640, 480\n",
    "\n",
    "\n",
    "def main():\n",
    "    pygame.mixer.pre_init(44100, -16, 2, 4096)\n",
    "    pygame.init()\n",
    "    screen = pygame.display.set_mode(windowSize)\n",
    "    max_frame_rate = 60\n",
    "    dashboard = Dashboard(\"./img/font.png\", 8, screen)\n",
    "    sound = Sound()\n",
    "    level = Level(screen, sound, dashboard)\n",
    "    menu = Menu(screen, dashboard, level, sound)\n",
    "\n",
    "    while not menu.start:\n",
    "        menu.update()\n",
    "\n",
    "    mario = Mario(0, 0, level, screen, dashboard, sound)\n",
    "    clock = pygame.time.Clock()\n",
    "\n",
    "    while not mario.restart:\n",
    "        pygame.display.set_caption(\"Super Mario running with {:d} FPS\".format(int(clock.get_fps())))\n",
    "        if mario.pause:\n",
    "            mario.pauseObj.update()\n",
    "        else:\n",
    "            level.drawLevel(mario.camera)\n",
    "            dashboard.update()\n",
    "            mario.update()\n",
    "        pygame.display.update()\n",
    "        clock.tick(max_frame_rate)\n",
    "    return 'restart'\n",
    "\n",
    "\n",
    "if __name__ == \"__main__\":\n",
    "    exitmessage = 'restart'\n",
    "    while exitmessage == 'restart':\n",
    "        exitmessage = main()\n"
   ]
  }
 ],
 "metadata": {
  "kernelspec": {
   "display_name": "Python 3 (ipykernel)",
   "language": "python",
   "name": "python3"
  },
  "language_info": {
   "codemirror_mode": {
    "name": "ipython",
    "version": 3
   },
   "file_extension": ".py",
   "mimetype": "text/x-python",
   "name": "python",
   "nbconvert_exporter": "python",
   "pygments_lexer": "ipython3",
   "version": "3.12.2"
  }
 },
 "nbformat": 4,
 "nbformat_minor": 5
}
